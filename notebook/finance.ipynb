{
  "nbformat": 4,
  "nbformat_minor": 0,
  "metadata": {
    "colab": {
      "provenance": [],
      "toc_visible": true,
      "authorship_tag": "ABX9TyNhSr2xiwJAftDtc3hRdqe4",
      "include_colab_link": true
    },
    "kernelspec": {
      "name": "python3",
      "display_name": "Python 3"
    },
    "language_info": {
      "name": "python"
    }
  },
  "cells": [
    {
      "cell_type": "markdown",
      "metadata": {
        "id": "view-in-github",
        "colab_type": "text"
      },
      "source": [
        "<a href=\"https://colab.research.google.com/github/gluo88/misc/blob/main/notebook/finance.ipynb\" target=\"_parent\"><img src=\"https://colab.research.google.com/assets/colab-badge.svg\" alt=\"Open In Colab\"/></a>"
      ]
    },
    {
      "cell_type": "markdown",
      "source": [
        "# directly retrieve yearly total returns, and calculate trailing returns by yfinance (most accurate)"
      ],
      "metadata": {
        "id": "0rPt8GCKrKin"
      }
    },
    {
      "cell_type": "code",
      "source": [
        "Would you please to write a detailed prompt for generating the above code that can be used to re-generate better python code for efficiency, easy understanding,   good commenting\n",
        "\n",
        "--------------  version has been revised by myself ----\n",
        "Prompt for Generating Python Code:\n",
        "\n",
        "Objective:\n",
        "The objective of this Python script is to utilize the Yahoo Finance API (yfinance) for fetching yearly total returns corresponding to a specified stock ticker. Additionally, the script aims to calculate and present the annualized trailing total return for various predefined time periods.\n",
        "\n",
        "Steps:\n",
        "\n",
        "Step 1: Library Imports:\n",
        "Import essential libraries: yfinance as yf and pandas as pd.\n",
        "\n",
        "Step 2: Fetch Yearly Total Returns:\n",
        "Develop a function using the yfinance library (‘import yfinance as yf’, ‘ yf.Ticker(ticker).history()’)   to retrieve yearly total returns.\n",
        "Apply the function to obtain historical data and compute annual returns.\n",
        "Display the obtained annual total return history.\n",
        "\n",
        "Step 3: Calculate Annualized Trailing Total Return:\n",
        "\n",
        "Define a function to compute the annualized trailing total return based on specified time periods.\n",
        "Utilize the annual total return history obtained in Step 2 for this computation.\n",
        "Implement the calculation method: Annualized Return = [(1 + r1) * (1 + r2) * ... * (1 + rn)]^(1/n) - 1.\n",
        "Leverage Pandas for data manipulation as required.\n",
        "Add the calculation method and its reference (https://www.investopedia.com/terms/a/annualized-total-return.asp) as a comment.\n",
        "Display the annualized trailing total return for different time periods.\n",
        "\n",
        "The expected execution result: ###\n",
        "\n",
        "Annual Total Return (%) History:\n",
        "                           Total Return\n",
        "Date\n",
        "2002-12-31 00:00:00-05:00     -0.030648\n",
        "2003-12-31 00:00:00-05:00      0.261358\n",
        "2004-12-31 00:00:00-05:00      0.185731\n",
        "2005-12-31 00:00:00-05:00      0.229000\n",
        "2006-12-31 00:00:00-05:00      0.177913\n",
        "2007-12-31 00:00:00-05:00     -0.014422\n",
        "2008-12-31 00:00:00-05:00     -0.359793\n",
        "2009-12-31 00:00:00-05:00      0.445820\n",
        "2010-12-31 00:00:00-05:00      0.079038\n",
        "2011-12-31 00:00:00-05:00     -0.044104\n",
        "2012-12-31 00:00:00-05:00      0.164368\n",
        "2013-12-31 00:00:00-05:00      0.259991\n",
        "2014-12-31 00:00:00-05:00      0.118761\n",
        "2015-12-31 00:00:00-05:00     -0.037058\n",
        "2016-12-31 00:00:00-05:00      0.233812\n",
        "2017-12-31 00:00:00-05:00      0.125416\n",
        "2018-12-31 00:00:00-05:00     -0.097634\n",
        "2019-12-31 00:00:00-05:00      0.206600\n",
        "2020-12-31 00:00:00-05:00      0.009886\n",
        "2021-12-31 00:00:00-05:00      0.355708\n",
        "2022-12-31 00:00:00-05:00     -0.099170\n",
        "2023-12-31 00:00:00-05:00      0.103418\n",
        "Trailing Returns as : 2022-12-31\n",
        "1-Year -9.92%\n",
        "2-Year 10.51%\n",
        "3-Year 7.24%\n",
        "5-Year 6.07%\n",
        "10-Year 9.73%\n",
        "15-Year 7.14%\n",
        "20-Year 9.38%\n",
        "###\n",
        "\n"
      ],
      "metadata": {
        "id": "2Vbroyh-4Rdk"
      },
      "execution_count": null,
      "outputs": []
    },
    {
      "cell_type": "code",
      "source": [
        "# CODE started here:\n",
        "!pip insall yfinance\n",
        "import yfinance as yf\n",
        "import pandas as pd\n",
        "\n",
        "print(\"The execution result started here: ###\")\n",
        "\n",
        "#-------------------------------------------------------------------\n",
        "# step 1: fetch retrieve yearly total returns by yfinance & display\n",
        "\n",
        "# Function to fetch data from yfinance and extract yearly total returns\n",
        "def get_annual_returns_df(ticker):\n",
        "    # Get the historical data for the given ticker\n",
        "    stock = yf.Ticker(ticker)\n",
        "    # Get annual total return data\n",
        "    annual_returns = stock.history(period=\"max\")[\"Close\"].resample('Y').ffill().pct_change().dropna()\n",
        "    annual_returns_df = pd.DataFrame(annual_returns, columns=['Close'])\n",
        "    annual_returns_df.rename(columns={'Close': 'Total Return'}, inplace=True)\n",
        "    return annual_returns_df\n",
        "\n",
        "# Set the stock ticker\n",
        "ticker = \"XFN.TO\"\n",
        "# Fetch data and extract required information\n",
        "data = get_annual_returns_df(ticker)\n",
        "print(\"\\nAnnual Total Return (%) History:\")\n",
        "# print(data.to_string(index=True)) # Add index=True\n",
        "print(data)\n",
        "\n",
        "#-------------------------------------------------------------------\n",
        "# step 2: calculate the annualized trailing total return from the data generated in step 1 & display\n",
        "\n",
        "# Define a function to calculate the annualized trailing total return for a given number of years\n",
        "def get_trailing_return(data, years):\n",
        "    # Get the total return values for the last n years\n",
        "    trailing_data = data['Total Return'].tail(years)\n",
        "\n",
        "    # Convert the percentage strings to numeric values\n",
        "    #trailing_data = trailing_data.str.replace('%', '').astype(float)    # not working\n",
        "    trailing_data = trailing_data.astype(str).str.replace('%', '').astype(float)\n",
        "\n",
        "    \"\"\" Calculate the annualized trailing total return using the formula from Investopedia[^1^][1]:\n",
        "        Annualized Return = [(1 + r1) * (1 + r2) * ... * (1 + rn)]^(1/n) - 1\n",
        "        Where r1, r2, ..., rn are the total return values for each year                    \"\"\"\n",
        "    #annualized_return = (trailing_data / 100 + 1).prod() ** (1 / years) - 1  # is incorrect\n",
        "    annualized_return = (trailing_data + 1).prod() ** (1 / years) - 1\n",
        "\n",
        "    # Format the result as a percentage with two decimal places\n",
        "    annualized_return = \"{:.2f}%\".format(annualized_return * 100)\n",
        "\n",
        "    return annualized_return\n",
        "\n",
        "TRAIL_RETURN_AS_YEAR=2022\n",
        "data.drop(data.index[-1], inplace=True)\n",
        "\n",
        "# Assuming data is your DataFrame\n",
        "data['Year'] = data.index.year\n",
        "data['Date'] = data.index\n",
        "\n",
        "# If you want to keep only the date portion without the time\n",
        "data['Date'] = data['Date'].dt.date\n",
        "# Remove rows where 'Year' is newer than TRAIL_RETURN_AS_YEAR\n",
        "data = data[data['Year'] <= TRAIL_RETURN_AS_YEAR]\n",
        "# Find the newest date and extract the date portion\n",
        "newest_date = data['Date'].max()\n",
        "#Print the newest date\n",
        "print(\"Trailing Returns as :\", newest_date)\n",
        "#print(data['Adj Close'].tail(1))\n",
        "\n",
        "# Define a list of years to calculate the trailing returns\n",
        "years_list = [1, 2, 3, 5, 10, 15, 20]\n",
        "\n",
        "# Loop through the list and print the trailing returns for each year\n",
        "for years in years_list:\n",
        "    trailing_return = get_trailing_return(data, years)\n",
        "    print(f\"{years}-Year {trailing_return}\")\n",
        "\n",
        "# print an indicator to mark the end of execution result\n",
        "print(\"###\")"
      ],
      "metadata": {
        "colab": {
          "base_uri": "https://localhost:8080/"
        },
        "outputId": "46328925-046e-4211-b0fc-c1a0dbbdefd1",
        "id": "PN_yVTZQtF95"
      },
      "execution_count": 28,
      "outputs": [
        {
          "output_type": "stream",
          "name": "stdout",
          "text": [
            "ERROR: unknown command \"insall\" - maybe you meant \"install\"\n",
            "The execution result started here: ###\n",
            "\n",
            "Annual Total Return (%) History:\n",
            "                           Total Return\n",
            "Date                                   \n",
            "2002-12-31 00:00:00-05:00     -0.030648\n",
            "2003-12-31 00:00:00-05:00      0.261358\n",
            "2004-12-31 00:00:00-05:00      0.185731\n",
            "2005-12-31 00:00:00-05:00      0.229001\n",
            "2006-12-31 00:00:00-05:00      0.177913\n",
            "2007-12-31 00:00:00-05:00     -0.014423\n",
            "2008-12-31 00:00:00-05:00     -0.359792\n",
            "2009-12-31 00:00:00-05:00      0.445819\n",
            "2010-12-31 00:00:00-05:00      0.079038\n",
            "2011-12-31 00:00:00-05:00     -0.044102\n",
            "2012-12-31 00:00:00-05:00      0.164368\n",
            "2013-12-31 00:00:00-05:00      0.259991\n",
            "2014-12-31 00:00:00-05:00      0.118761\n",
            "2015-12-31 00:00:00-05:00     -0.037058\n",
            "2016-12-31 00:00:00-05:00      0.233813\n",
            "2017-12-31 00:00:00-05:00      0.125415\n",
            "2018-12-31 00:00:00-05:00     -0.097634\n",
            "2019-12-31 00:00:00-05:00      0.206601\n",
            "2020-12-31 00:00:00-05:00      0.009886\n",
            "2021-12-31 00:00:00-05:00      0.355708\n",
            "2022-12-31 00:00:00-05:00     -0.099170\n",
            "2023-12-31 00:00:00-05:00      0.100836\n",
            "Trailing Returns as : 2022-12-31\n",
            "1-Year -9.92%\n",
            "2-Year 10.51%\n",
            "3-Year 7.24%\n",
            "5-Year 6.07%\n",
            "10-Year 9.73%\n",
            "15-Year 7.14%\n",
            "20-Year 9.38%\n",
            "###\n"
          ]
        }
      ]
    },
    {
      "cell_type": "markdown",
      "source": [
        "# regenated from upaded prompt"
      ],
      "metadata": {
        "id": "2uP01eGsTtrI"
      }
    },
    {
      "cell_type": "markdown",
      "source": [
        "The following is the code regenerated by the prompt"
      ],
      "metadata": {
        "id": "asPIHU9yz9_S"
      }
    },
    {
      "cell_type": "code",
      "source": [
        "import yfinance as yf\n",
        "import pandas as pd\n",
        "\n",
        "# Step 2: Fetch Yearly Total Returns\n",
        "def get_yearly_total_returns(ticker):\n",
        "    # Get the historical data for the given ticker\n",
        "    stock = yf.Ticker(ticker)\n",
        "    history = stock.history(period=\"max\", end=\"2022-12-31\").reset_index()\n",
        "\n",
        "    # Extract the year from the Date column\n",
        "    history['Year'] = history['Date'].dt.year\n",
        "\n",
        "    # Group the data by year and calculate the total return\n",
        "    yearly_data = history.groupby('Year').last()\n",
        "    yearly_data['Total Return'] = (yearly_data['Close'] + yearly_data['Dividends']) / yearly_data['Close'].shift(1) - 1\n",
        "    yearly_data['Total Return'] = yearly_data['Total Return'] * 100\n",
        "\n",
        "    # Format the \"Last Trading Date\" column to display only the date portion\n",
        "    yearly_data['Last Trading Date'] = yearly_data['Date'].dt.date\n",
        "    yearly_data = yearly_data[['Last Trading Date', 'Close', 'Dividends', 'Total Return']]\n",
        "    yearly_data.rename(columns={'Close': 'Adj Close', 'Dividends': 'Sum of Dividends'}, inplace=True)\n",
        "    return yearly_data\n",
        "\n",
        "# Main program\n",
        "ticker = 'XFN.TO'\n",
        "data = get_yearly_total_returns(ticker)\n",
        "print(data)\n",
        "\n",
        "# Step 3: Calculate Annualized Trailing Total Return\n",
        "def calculate_annualized_return(total_return_data, years):\n",
        "    # Get the total return values for the last n years\n",
        "    trailing_data = total_return_data.tail(years)\n",
        "\n",
        "    # Convert the 'Total Return' column to numeric values\n",
        "    #trailing_data = trailing_data['Total Return'].astype(float)  # working when  column has no %\n",
        "    trailing_data = trailing_data['Total Return'].astype(str).str.replace('%', '').astype(float)  #  working when column has % or not\n",
        "\n",
        "\n",
        "    # Calculate the annualized trailing total return using the formula:\n",
        "    # Annualized Return = [(1 + r1) * (1 + r2) * ... * (1 + rn)]^(1/n) - 1\n",
        "    annualized_return = (trailing_data / 100 + 1).prod() ** (1 / years) - 1\n",
        "\n",
        "    # Format the result as a percentage with two decimal places\n",
        "    annualized_return = \"{:.2f}%\".format(annualized_return * 100)\n",
        "    return annualized_return\n",
        "\n",
        "# Define the time periods to calculate the trailing returns\n",
        "time_periods = [1, 2, 3, 5, 10, 15, 20]\n",
        "\n",
        "# Loop through the time periods and calculate the annualized trailing total return\n",
        "trailing_returns = [[\"Years\", \"1-Year\", \"2-Year\", \"3-Year\", \"5-Year\", \"10-Year\", \"15-Year\", \"20-Year\"]]\n",
        "for years in time_periods:\n",
        "    annualized_return = calculate_annualized_return(data, years)\n",
        "    trailing_returns.append([f\"{years}-Year\", annualized_return])\n",
        "\n",
        "# Display the trailing total returns\n",
        "for row in trailing_returns:\n",
        "    print(\"\\t\".join(row))"
      ],
      "metadata": {
        "colab": {
          "base_uri": "https://localhost:8080/"
        },
        "id": "U12mE7m1O6sA",
        "outputId": "e414da50-3a56-47a1-ebef-22f5743b8892"
      },
      "execution_count": 22,
      "outputs": [
        {
          "output_type": "stream",
          "name": "stdout",
          "text": [
            "     Last Trading Date  Adj Close  Sum of Dividends  Total Return\n",
            "Year                                                             \n",
            "2001        2001-12-31   7.318617               0.0           NaN\n",
            "2002        2002-12-31   7.094311               0.0     -3.064864\n",
            "2003        2003-12-31   8.948477               0.0     26.135949\n",
            "2004        2004-12-31  10.610479               0.0     18.573022\n",
            "2005        2005-12-30  13.040286               0.0     22.900065\n",
            "2006        2006-12-29  15.360321               0.0     17.791289\n",
            "2007        2007-12-31  15.138783               0.0     -1.442278\n",
            "2008        2008-12-31   9.691957               0.0    -35.979281\n",
            "2009        2009-12-31  14.012813               0.0     44.581862\n",
            "2010        2010-12-31  15.120358               0.0      7.903802\n",
            "2011        2011-12-30  14.453515               0.0     -4.410229\n",
            "2012        2012-12-31  16.829199               0.0     16.436720\n",
            "2013        2013-12-31  21.204628               0.0     25.999034\n",
            "2014        2014-12-31  23.722935               0.0     11.876213\n",
            "2015        2015-12-31  22.843817               0.0     -3.705772\n",
            "2016        2016-12-30  28.184961               0.0     23.381139\n",
            "2017        2017-12-29  31.719803               0.0     12.541587\n",
            "2018        2018-12-31  28.622864               0.0     -9.763425\n",
            "2019        2019-12-31  34.536350               0.0     20.660010\n",
            "2020        2020-12-31  34.877777               0.0      0.988601\n",
            "2021        2021-12-31  47.284088               0.0     35.570819\n",
            "2022        2022-12-30  42.594910               0.0     -9.917033\n",
            "Years\t1-Year\t2-Year\t3-Year\t5-Year\t10-Year\t15-Year\t20-Year\n",
            "1-Year\t-9.92%\n",
            "2-Year\t10.51%\n",
            "3-Year\t7.24%\n",
            "5-Year\t6.07%\n",
            "10-Year\t9.73%\n",
            "15-Year\t7.14%\n",
            "20-Year\t9.38%\n"
          ]
        }
      ]
    },
    {
      "cell_type": "markdown",
      "source": [
        "# retrieve a single stock price from yahoo finance\n"
      ],
      "metadata": {
        "id": "k2G0THy3U9BS"
      }
    },
    {
      "cell_type": "code",
      "source": [],
      "metadata": {
        "id": "CZPMtrwuP0F2"
      },
      "execution_count": null,
      "outputs": []
    },
    {
      "cell_type": "code",
      "source": [
        "#!pip install yfinance\n",
        "import yfinance as yf\n",
        "ticker = \"XFN.TO\"\n",
        "# Create a ticker object\n",
        "stock = yf.Ticker(ticker)\n",
        "# Get the current market price\n",
        "price = stock.basic_info['last_price']\n",
        "print(f\"The last_price price of {ticker} is ${price:.4f}\")\n",
        "\n"
      ],
      "metadata": {
        "colab": {
          "base_uri": "https://localhost:8080/"
        },
        "id": "h-jpv38gxMh3",
        "outputId": "363bed15-f77d-4ad4-e3d3-dd9e62b06473"
      },
      "execution_count": 9,
      "outputs": [
        {
          "output_type": "stream",
          "name": "stdout",
          "text": [
            "The last_price price of XFN.TO is $46.9000\n"
          ]
        }
      ]
    },
    {
      "cell_type": "markdown",
      "source": [
        "# endofyear price, dividend sum:   from code interpreter"
      ],
      "metadata": {
        "id": "JCf3PiS7gRCO"
      }
    },
    {
      "cell_type": "markdown",
      "source": [
        "Would you write the following python program for me?\n",
        "\n",
        "Program: ### Giving a stock ticker (ex. SPY),  the python program takes  the data from  yahoo finance, and list \"last trading date of the year\",  “prices of Adj Close** at the last trading date of the year”  and “ sum of dividends during the year” (by adding all distributed dividends during the year), for all years with available data. ###"
      ],
      "metadata": {
        "id": "hzsgKDizgiVC"
      }
    },
    {
      "cell_type": "code",
      "source": [
        "import yfinance as yf\n",
        "\n",
        "def get_yearly_data(ticker):\n",
        "    # Get the historical data for the given ticker\n",
        "    stock = yf.Ticker(ticker)\n",
        "    history = stock.history(period=\"max\").reset_index()\n",
        "\n",
        "    # Extract the year from the Date column\n",
        "    history['Year'] = history['Date'].dt.year\n",
        "\n",
        "    # Group the data by year and get the last trading date, Adj Close, and sum of dividends for each year\n",
        "    yearly_data = history.groupby('Year').agg({'Date': 'last', 'Close': 'last', 'Dividends': 'sum'})\n",
        "    yearly_data.rename(columns={'Date': 'Last Trading Date', 'Close': 'Adj Close', 'Dividends': 'Sum of Dividends'}, inplace=True)\n",
        "\n",
        "    # Format the \"Last Trading Date\" column to display only the date portion\n",
        "    yearly_data['Last Trading Date'] = yearly_data['Last Trading Date'].dt.date\n",
        "\n",
        "    return yearly_data\n",
        "\n",
        "# Main program\n",
        "ticker = input(\"Enter the stock ticker: \")\n",
        "data = get_yearly_data(ticker)\n",
        "print(data)"
      ],
      "metadata": {
        "colab": {
          "base_uri": "https://localhost:8080/"
        },
        "id": "AK99uCvyidQc",
        "outputId": "841ea60a-a6d7-4a42-af52-3b31cfc44b4d"
      },
      "execution_count": 1,
      "outputs": [
        {
          "output_type": "stream",
          "name": "stdout",
          "text": [
            "Enter the stock ticker: XFN.to\n",
            "     Last Trading Date  Adj Close  Sum of Dividends\n",
            "Year                                               \n",
            "2001        2001-12-31   7.318622            0.1875\n",
            "2002        2002-12-31   7.094312            0.2825\n",
            "2003        2003-12-31   8.948475            0.3455\n",
            "2004        2004-12-31  10.610479            0.3805\n",
            "2005        2005-12-30  13.040286            0.4635\n",
            "2006        2006-12-29  15.360320            0.5420\n",
            "2007        2007-12-31  15.138772            0.6590\n",
            "2008        2008-12-31   9.691960            0.8115\n",
            "2009        2009-12-31  14.012823            0.8150\n",
            "2010        2010-12-31  15.120358            0.7440\n",
            "2011        2011-12-30  14.453516            0.7970\n",
            "2012        2012-12-31  16.829197            0.8220\n",
            "2013        2013-12-31  21.204639            0.8320\n",
            "2014        2014-12-31  23.722935            0.8830\n",
            "2015        2015-12-31  22.843805            0.9390\n",
            "2016        2016-12-30  28.184952            1.0000\n",
            "2017        2017-12-29  31.719809            1.0560\n",
            "2018        2018-12-31  28.622860            1.1590\n",
            "2019        2019-12-31  34.536354            1.1850\n",
            "2020        2020-12-31  34.877766            1.2870\n",
            "2021        2021-12-31  47.284081            1.3520\n",
            "2022        2022-12-30  42.594906            1.5330\n",
            "2023        2023-12-15  46.709999            1.5660\n"
          ]
        }
      ]
    },
    {
      "cell_type": "markdown",
      "source": [
        "#  endofyear price, dividend sum, the yearly total return;  from code interpreter"
      ],
      "metadata": {
        "id": "nyo4nKVJy-aQ"
      }
    },
    {
      "cell_type": "markdown",
      "source": [
        "Would you adjust the python program according to this requirement (percentage format is to be used for “the total return of the year\", with % character): ### Giving a stock ticker (for example XFN.to), the python program takes the data from yahoo finance, and list \"last trading date of the year\", “prices of Adj Close** at the last trading date of the year”, “ sum of dividends during the year” (by adding all distributed dividends during the year), “the total return of the year (with % character)”, for all years with available data. the date portion displays year/month/date part only.\n",
        "Please use the stocker XFN.to in the program ###"
      ],
      "metadata": {
        "id": "NsAcvPVc07C-"
      }
    },
    {
      "cell_type": "code",
      "source": [
        "import yfinance as yf\n",
        "\n",
        "def get_yearly_data(ticker):\n",
        "    # Get the historical data for the given ticker\n",
        "    stock = yf.Ticker(ticker)\n",
        "\n",
        "    history = stock.history(period=\"max\").reset_index()\n",
        "\n",
        "    # Extract the year from the Date column\n",
        "    history['Year'] = history['Date'].dt.year\n",
        "\n",
        "    # Group the data by year and get the last trading date, Adj Close, and sum of dividends for each year\n",
        "    yearly_data = history.groupby('Year').agg({'Date': 'last', 'Close': 'last', 'Dividends': 'sum'})\n",
        "    yearly_data.rename(columns={'Date': 'Last Trading Date', 'Close': 'Adj Close', 'Dividends': 'Sum of Dividends'}, inplace=True)\n",
        "\n",
        "    # Calculate the total return for each year\n",
        "    yearly_data['Total Return'] = (yearly_data['Adj Close'] + yearly_data['Sum of Dividends']) / yearly_data['Adj Close'].shift(1) - 1\n",
        "    yearly_data['Total Return'] = yearly_data['Total Return'] * 100\n",
        "    yearly_data['Total Return'] = yearly_data['Total Return'].map(\"{:.2f}%\".format)\n",
        "\n",
        "    # Format the \"Last Trading Date\" column to display only the date portion\n",
        "    yearly_data['Last Trading Date'] = yearly_data['Last Trading Date'].dt.date\n",
        "\n",
        "    return yearly_data\n",
        "\n",
        "# Main program\n",
        "ticker = 'XFN.TO'\n",
        "data = get_yearly_data(ticker)\n",
        "\n",
        "print(data)\n",
        "\n"
      ],
      "metadata": {
        "colab": {
          "base_uri": "https://localhost:8080/"
        },
        "id": "tFzVkpYs0ZQa",
        "outputId": "75c63ea0-0782-4616-a8a0-d659edaf9a51"
      },
      "execution_count": 8,
      "outputs": [
        {
          "output_type": "stream",
          "name": "stdout",
          "text": [
            "     Last Trading Date  Adj Close  Sum of Dividends Total Return\n",
            "Year                                                            \n",
            "2001        2001-12-31   7.318620            0.1875         nan%\n",
            "2002        2002-12-31   7.094311            0.2825        0.80%\n",
            "2003        2003-12-31   8.948472            0.3455       31.01%\n",
            "2004        2004-12-31  10.610478            0.3805       22.83%\n",
            "2005        2005-12-30  13.040286            0.4635       27.27%\n",
            "2006        2006-12-29  15.360325            0.5420       21.95%\n",
            "2007        2007-12-31  15.138774            0.6590        2.85%\n",
            "2008        2008-12-31   9.691958            0.8115      -30.62%\n",
            "2009        2009-12-31  14.012818            0.8150       52.99%\n",
            "2010        2010-12-31  15.120364            0.7440       13.21%\n",
            "2011        2011-12-30  14.453517            0.7970        0.86%\n",
            "2012        2012-12-31  16.829203            0.8220       22.12%\n",
            "2013        2013-12-31  21.204638            0.8320       30.94%\n",
            "2014        2014-12-31  23.722929            0.8830       16.04%\n",
            "2015        2015-12-31  22.843811            0.9390        0.25%\n",
            "2016        2016-12-30  28.184971            1.0000       27.76%\n",
            "2017        2017-12-29  31.719805            1.0560       16.29%\n",
            "2018        2018-12-31  28.622883            1.1590       -6.11%\n",
            "2019        2019-12-31  34.536354            1.1850       24.80%\n",
            "2020        2020-12-31  34.877769            1.2870        4.72%\n",
            "2021        2021-12-31  47.284081            1.3520       39.45%\n",
            "2022        2022-12-30  42.594910            1.5330       -6.67%\n"
          ]
        }
      ]
    },
    {
      "cell_type": "markdown",
      "source": [],
      "metadata": {
        "id": "StYir-On2fDu"
      }
    },
    {
      "cell_type": "markdown",
      "source": [
        "# adding  annualized trailing total return from the information of yearly total returns"
      ],
      "metadata": {
        "id": "Rx-IMXpa2gtt"
      }
    },
    {
      "cell_type": "markdown",
      "source": [
        "Please add a code section at the end of the above code after ‘print(data)’ such that 1.  the newly code will calculate the annualized trailing total return from  the information of yearly 'Total Return' in the   ‘data’ variable. 2. The calculation should use the Annualized Total Return Formula in the article  https://www.investopedia.com/terms/a/annualized-total-return.asp with the previous calculated yearly 'Total Return' as input. Do not use the close price directly for calculation.  3.  Please write the calculation formulae in the code comment. 4.  display \"trailing total returns as   'a date'\"  5.  Display the trailing total returns  with the starting from  2022  backward  for 1 year, 2 years, 3 years, 5 years, 10 years, 15 years, 20 years.\n",
        "\n",
        "The expected output from this code section should look like:\n",
        "1-Year -5.26%\n",
        "2-Year\n",
        "3-Year\n",
        "5-Year\n",
        "10-Year\n",
        "15-Year\n",
        "20-Year"
      ],
      "metadata": {
        "id": "Y3qdTsPa2h-J"
      }
    },
    {
      "cell_type": "code",
      "source": [
        "import yfinance as yf\n",
        "\n",
        "def get_yearly_data(ticker):\n",
        "    # Get the historical data for the given ticker\n",
        "    stock = yf.Ticker(ticker)\n",
        "\n",
        "    history = stock.history(period=\"max\").reset_index()\n",
        "\n",
        "    # Extract the year from the Date column\n",
        "    history['Year'] = history['Date'].dt.year\n",
        "\n",
        "    # Group the data by year and get the last trading date, Adj Close, and sum of dividends for each year\n",
        "    yearly_data = history.groupby('Year').agg({'Date': 'last', 'Close': 'last', 'Dividends': 'sum'})\n",
        "    yearly_data.rename(columns={'Date': 'Last Trading Date', 'Close': 'Adj Close', 'Dividends': 'Sum of Dividends'}, inplace=True)\n",
        "\n",
        "    # Calculate the total return for each year\n",
        "    yearly_data['Total Return'] = (yearly_data['Adj Close'] + yearly_data['Sum of Dividends']) / yearly_data['Adj Close'].shift(1) - 1\n",
        "    yearly_data['Total Return'] = yearly_data['Total Return'] * 100\n",
        "    yearly_data['Total Return'] = yearly_data['Total Return'].map(\"{:.2f}%\".format)\n",
        "\n",
        "    # Format the \"Last Trading Date\" column to display only the date portion\n",
        "    yearly_data['Last Trading Date'] = yearly_data['Last Trading Date'].dt.date\n",
        "\n",
        "    return yearly_data\n",
        "\n",
        "# Main program\n",
        "ticker = 'XFN.TO'\n",
        "data = get_yearly_data(ticker)\n",
        "\n",
        "print(data)\n",
        "\n",
        "# Define a function to calculate the annualized trailing total return for a given number of years\n",
        "def get_trailing_return(data, years):\n",
        "    # Get the total return values for the last n years\n",
        "    trailing_data = data['Total Return'].tail(years)\n",
        "\n",
        "    # Convert the percentage strings to numeric values\n",
        "    trailing_data = trailing_data.str.replace('%', '').astype(float)\n",
        "\n",
        "    # Calculate the annualized trailing total return using the formula from Investopedia[^1^][1]:\n",
        "    # Annualized Return = [(1 + r1) * (1 + r2) * ... * (1 + rn)]^(1/n) - 1\n",
        "    # Where r1, r2, ..., rn are the total return values for each year\n",
        "    annualized_return = (trailing_data / 100 + 1).prod() ** (1 / years) - 1\n",
        "\n",
        "    # Format the result as a percentage with two decimal places\n",
        "    annualized_return = \"{:.2f}%\".format(annualized_return * 100)\n",
        "\n",
        "    return annualized_return\n",
        "\n",
        "TRAIL_RETURN_AS_YEAR=2022\n",
        "# Remove rows where 'Year' is newer than TRAIL_RETURN_AS_YEAR\n",
        "data = data[data.index <= TRAIL_RETURN_AS_YEAR]\n",
        "# Find the newest date and extract the date portion\n",
        "newest_date = data['Last Trading Date'].max()\n",
        "# Print the newest date\n",
        "print(\"Trailing Returns as :\", newest_date)\n",
        "#print(data['Adj Close'].tail(1))\n",
        "\n",
        "# Define a list of years to calculate the trailing returns\n",
        "years_list = [1, 2, 3, 5, 10, 15, 20]\n",
        "\n",
        "# Loop through the list and print the trailing returns for each year\n",
        "for years in years_list:\n",
        "    trailing_return = get_trailing_return(data, years)\n",
        "    print(f\"{years}-Year {trailing_return}\")\n"
      ],
      "metadata": {
        "colab": {
          "base_uri": "https://localhost:8080/"
        },
        "id": "mk9wzJft_QsY",
        "outputId": "3a17a9b3-5b4b-4904-e140-dece986395e3"
      },
      "execution_count": 31,
      "outputs": [
        {
          "output_type": "stream",
          "name": "stdout",
          "text": [
            "     Last Trading Date  Adj Close  Sum of Dividends Total Return\n",
            "Year                                                            \n",
            "2001        2001-12-31   7.318618            0.1875         nan%\n",
            "2002        2002-12-31   7.094313            0.2825        0.80%\n",
            "2003        2003-12-31   8.948480            0.3455       31.01%\n",
            "2004        2004-12-31  10.610485            0.3805       22.83%\n",
            "2005        2005-12-30  13.040279            0.4635       27.27%\n",
            "2006        2006-12-29  15.360322            0.5420       21.95%\n",
            "2007        2007-12-31  15.138784            0.6590        2.85%\n",
            "2008        2008-12-31   9.691963            0.8115      -30.62%\n",
            "2009        2009-12-31  14.012822            0.8150       52.99%\n",
            "2010        2010-12-31  15.120358            0.7440       13.21%\n",
            "2011        2011-12-30  14.453513            0.7970        0.86%\n",
            "2012        2012-12-31  16.829193            0.8220       22.12%\n",
            "2013        2013-12-31  21.204628            0.8320       30.94%\n",
            "2014        2014-12-31  23.722933            0.8830       16.04%\n",
            "2015        2015-12-31  22.843805            0.9390        0.25%\n",
            "2016        2016-12-30  28.184954            1.0000       27.76%\n",
            "2017        2017-12-29  31.719803            1.0560       16.29%\n",
            "2018        2018-12-31  28.622868            1.1590       -6.11%\n",
            "2019        2019-12-31  34.536369            1.1850       24.80%\n",
            "2020        2020-12-31  34.877769            1.2870        4.72%\n",
            "2021        2021-12-31  47.284073            1.3520       39.45%\n",
            "2022        2022-12-30  42.594913            1.5330       -6.67%\n",
            "2023        2023-12-15  46.709999            1.5660       13.34%\n",
            "Trailing Returns as : 2022-12-30\n",
            "1-Year -6.67%\n",
            "2-Year 14.08%\n",
            "3-Year 10.87%\n",
            "5-Year 9.81%\n",
            "10-Year 13.71%\n",
            "15-Year 11.83%\n",
            "20-Year 14.00%\n"
          ]
        }
      ]
    },
    {
      "cell_type": "markdown",
      "source": [
        "# trailing total return from hard-coded data input"
      ],
      "metadata": {
        "id": "ZdAP5TphNLjK"
      }
    },
    {
      "cell_type": "markdown",
      "source": [
        "\n",
        "Certainly! To convert the provided data into a 2-dimensional array in Python, you can use a list of lists. Here's how you can represent the data:\n",
        "\n",
        "python\n",
        "Copy code\n",
        "data_array = [\n",
        "    [\"Year\", \"Total Return %\"],\n",
        "    [2013, 26.00],\n",
        "    [2014, 11.89],\n",
        "    [2015, -3.71],\n",
        "    [2016, 23.36],\n",
        "    [2017, 12.54],\n",
        "    [2018, -9.76],\n",
        "    [2019, 20.66],\n",
        "    [2020, 0.98],\n",
        "    [2021, 35.56],\n",
        "    [2022, -9.93],\n",
        "    [\"YTD\", None]  # Assuming YTD is a placeholder, set to None or provide the actual value\n",
        "]"
      ],
      "metadata": {
        "id": "n8bTSNjzncS5"
      }
    },
    {
      "cell_type": "code",
      "source": [
        "import yfinance as yf\n",
        "\n",
        "ticker = 'XFN.TO'\n",
        "# data from Ishare web site\n",
        "# xfn_yearly_total_return as input\n",
        "xfn_yearly_total_return = [\n",
        "    ['Year', 'Total Return'],\n",
        "    [2013, 26.0],\n",
        "    [2014, 11.89],\n",
        "    [2015, -3.71],\n",
        "    [2016, 23.36],\n",
        "    [2017, 12.54],\n",
        "    [2018, -9.76],\n",
        "    [2019, 20.66],\n",
        "    [2020, 0.98],\n",
        "    [2021, 35.56],\n",
        "    [2022, -9.93],\n",
        "]\n",
        "# expect output according Ishare web\n",
        "xfn_trailing_return_At_2022_END = [\n",
        "    [\"years\", \"1y\", \"3y\", \"5y\", \"10y\"],\n",
        "    [\"Total Return %\", -9.90, 7.24, 6.07, 9.73]\n",
        "]\n",
        "\n",
        "# Define a function to calculate the annualized trailing total return for a given number of years\n",
        "def get_trailing_return(data, years):\n",
        "    # Get the total return values for the last n years\n",
        "    trailing_data = data['Total Return'].tail(years)\n",
        "\n",
        "    # Convert the percentage strings to numeric values\n",
        "    #trailing_data = trailing_data.str.replace('%', '').astype(float)\n",
        "    trailing_data = trailing_data.astype(str).str.replace('%', '').astype(float)\n",
        "\n",
        "    # Calculate the annualized trailing total return using the formula from Investopedia[^1^][1]:\n",
        "    # Annualized Return = [(1 + r1) * (1 + r2) * ... * (1 + rn)]^(1/n) - 1\n",
        "    # Where r1, r2, ..., rn are the total return values for each year\n",
        "    annualized_return = (trailing_data / 100 + 1).prod() ** (1 / years) - 1\n",
        "\n",
        "    # Format the result as a percentage with two decimal places\n",
        "    annualized_return = \"{:.2f}%\".format(annualized_return * 100)\n",
        "    return annualized_return\n",
        "\n",
        "TRAIL_RETURN_AS_YEAR=2022\n",
        "\n",
        "# Define a list of years to calculate the trailing returns\n",
        "years_list = [1, 3, 5, 10]\n",
        "\n",
        "# please add a code section to convert variable 'xfn_yearly_total_return'\n",
        "# to variable 'data' for get_trailing_return(data, years)\n",
        "# Convert the list of lists to a pandas dataframe\n",
        "import pandas as pd\n",
        "data = pd.DataFrame(xfn_yearly_total_return[1:], columns=xfn_yearly_total_return[0])\n",
        "# Set the index to the year column\n",
        "data.set_index('Year', inplace=True)\n",
        "print(data)\n",
        "\n",
        "# Loop through the list and print the trailing returns for each year\n",
        "for years in years_list:\n",
        "    trailing_return = get_trailing_return(data, years)\n",
        "    print(f\"{years}-Year {trailing_return}\")\n"
      ],
      "metadata": {
        "colab": {
          "base_uri": "https://localhost:8080/"
        },
        "id": "S2cBD4i7DDPa",
        "outputId": "885ed134-17e7-4fe4-f916-1c293f8c9f94"
      },
      "execution_count": 52,
      "outputs": [
        {
          "output_type": "stream",
          "name": "stdout",
          "text": [
            "      Total Return\n",
            "Year              \n",
            "2013         26.00\n",
            "2014         11.89\n",
            "2015         -3.71\n",
            "2016         23.36\n",
            "2017         12.54\n",
            "2018         -9.76\n",
            "2019         20.66\n",
            "2020          0.98\n",
            "2021         35.56\n",
            "2022         -9.93\n",
            "1-Year -9.93%\n",
            "3-Year 7.23%\n",
            "5-Year 6.07%\n",
            "10-Year 9.73%\n"
          ]
        }
      ]
    },
    {
      "cell_type": "markdown",
      "source": [
        "# retrieve and calculate the trailing total return (dividend not considered)"
      ],
      "metadata": {
        "id": "lEQhgbR-gyeb"
      }
    },
    {
      "cell_type": "code",
      "source": [
        "# Import libraries\n",
        "import yfinance as yf\n",
        "import pandas as pd\n",
        "\n",
        "# Define the stock ticker and the time periods\n",
        "ticker = \"XFN.to\"\n",
        "periods = [1, 3, 5, 10] # in years\n",
        "\n",
        "# Fetch the historical data\n",
        "stock = yf.Ticker(ticker)\n",
        "data = stock.history(period=\"max\")\n",
        "\n",
        "# Calculate the annualized trailing return for each period\n",
        "for period in periods:\n",
        "    # Get the close prices for the period\n",
        "    close = data[\"Close\"].tail(period * 252) # 252 trading days in a year\n",
        "\n",
        "    # Calculate the percentage change\n",
        "    pct_change = close.pct_change()\n",
        "\n",
        "    # Calculate the annualized trailing return\n",
        "    atr = (1 + pct_change).prod() ** (1 / period) - 1\n",
        "\n",
        "    # Print the result\n",
        "    print(f\"The annualized trailing return for {ticker} over {period} year(s) is {atr:.2%}\")\n",
        "\n",
        ""
      ],
      "metadata": {
        "colab": {
          "base_uri": "https://localhost:8080/"
        },
        "id": "j67D_hEMBSzM",
        "outputId": "fe83db71-7b9d-480a-9eea-56d747ea615b"
      },
      "execution_count": 11,
      "outputs": [
        {
          "output_type": "stream",
          "name": "stdout",
          "text": [
            "The annualized trailing return for XFN.to over 1 year(s) is 9.39%\n",
            "The annualized trailing return for XFN.to over 3 year(s) is 9.95%\n",
            "The annualized trailing return for XFN.to over 5 year(s) is 9.67%\n",
            "The annualized trailing return for XFN.to over 10 year(s) is 8.32%\n"
          ]
        }
      ]
    },
    {
      "cell_type": "markdown",
      "source": [
        "# directly from yfinance, retrieve yearly total return, and calculate trailing return !!! - most accurate"
      ],
      "metadata": {
        "id": "zSNTXwZvg44j"
      }
    },
    {
      "cell_type": "code",
      "source": [
        "import yfinance as yf\n",
        "import pandas as pd\n",
        "\n",
        "# Function to fetch data from yfinance and extract required information\n",
        "def get_annual_returns_df(ticker):\n",
        "    # Get annual total return data\n",
        "    annual_returns = stock.history(period=\"max\")[\"Close\"].resample('Y').ffill().pct_change().dropna()\n",
        "    annual_returns_df = pd.DataFrame(annual_returns, columns=['Close'])\n",
        "    annual_returns_df.rename(columns={'Close': 'Total Return'}, inplace=True)\n",
        "    return annual_returns_df\n",
        "\n",
        "# Function to display data in tables\n",
        "def display_data(annual_returns):\n",
        "    # Convert data to DataFrames\n",
        "    #annual_returns_df = pd.DataFrame(annual_returns, columns=[\"Annual Total Return (%)\"])\n",
        "    annual_returns_df = pd.DataFrame(annual_returns, columns=['Close'])\n",
        "    annual_returns_df.rename(columns={'Close': 'Total Return'}, inplace=True)\n",
        "\n",
        "    print(\"\\nAnnual Total Return (%) History:\")\n",
        "    print(annual_returns_df.to_string(index=True)) # Add index=True\n",
        "\n",
        "# Set the stock ticker\n",
        "ticker = \"XFN.TO\"\n",
        "\n",
        "# Fetch data and extract required information\n",
        "data = get_annual_returns_df(ticker)\n",
        "\n",
        "print(\"\\nAnnual Total Return (%) History:\")\n",
        "#print(data.to_string(index=True)) # Add index=True\n",
        "print(data)\n",
        "\n",
        "###-------------------\n",
        "\n",
        "# Define a function to calculate the annualized trailing total return for a given number of years\n",
        "def get_trailing_return(data, years):\n",
        "    # Get the total return values for the last n years\n",
        "    trailing_data = data['Total Return'].tail(years)\n",
        "\n",
        "    # Convert the percentage strings to numeric values\n",
        "    #trailing_data = trailing_data.str.replace('%', '').astype(float)\n",
        "    #trailing_data = trailing_data.astype(str).str.replace('%', '').astype(float)\n",
        "\n",
        "    # Calculate the annualized trailing total return using the formula from Investopedia[^1^][1]:\n",
        "    # Annualized Return = [(1 + r1) * (1 + r2) * ... * (1 + rn)]^(1/n) - 1\n",
        "    # Where r1, r2, ..., rn are the total return values for each year\n",
        "    #annualized_return = (trailing_data / 100 + 1).prod() ** (1 / years) - 1\n",
        "    annualized_return = (trailing_data + 1).prod() ** (1 / years) - 1\n",
        "\n",
        "    # Format the result as a percentage with two decimal places\n",
        "    annualized_return = \"{:.2f}%\".format(annualized_return * 100)\n",
        "\n",
        "    return annualized_return\n",
        "\n",
        "TRAIL_RETURN_AS_YEAR=2022\n",
        "data.drop(data.index[-1], inplace=True)\n",
        "\n",
        "# Assuming data is your DataFrame\n",
        "data['Year'] = data.index.year\n",
        "data['Date'] = data.index\n",
        "\n",
        "# If you want to keep only the date portion without the time\n",
        "data['Date'] = data['Date'].dt.date\n",
        "# Remove rows where 'Year' is newer than TRAIL_RETURN_AS_YEAR\n",
        "data = data[data['Year'] <= TRAIL_RETURN_AS_YEAR]\n",
        "# Find the newest date and extract the date portion\n",
        "newest_date = data['Date'].max()\n",
        "#Print the newest date\n",
        "print(\"Trailing Returns as :\", newest_date)\n",
        "#print(data['Adj Close'].tail(1))\n",
        "\n",
        "# Define a list of years to calculate the trailing returns\n",
        "years_list = [1, 2, 3, 5, 10, 15, 20]\n",
        "\n",
        "# Loop through the list and print the trailing returns for each year\n",
        "for years in years_list:\n",
        "    trailing_return = get_trailing_return(data, years)\n",
        "    print(f\"{years}-Year {trailing_return}\")\n",
        "\n",
        "\n"
      ],
      "metadata": {
        "colab": {
          "base_uri": "https://localhost:8080/"
        },
        "id": "noMfptW8g6HR",
        "outputId": "c82c79d2-18c6-46c0-8067-aa0c5ba01829"
      },
      "execution_count": 13,
      "outputs": [
        {
          "output_type": "stream",
          "name": "stdout",
          "text": [
            "\n",
            "Annual Total Return (%) History:\n",
            "                           Total Return\n",
            "Date                                   \n",
            "2002-12-31 00:00:00-05:00     -0.030648\n",
            "2003-12-31 00:00:00-05:00      0.261360\n",
            "2004-12-31 00:00:00-05:00      0.185730\n",
            "2005-12-31 00:00:00-05:00      0.229000\n",
            "2006-12-31 00:00:00-05:00      0.177913\n",
            "2007-12-31 00:00:00-05:00     -0.014424\n",
            "2008-12-31 00:00:00-05:00     -0.359792\n",
            "2009-12-31 00:00:00-05:00      0.445819\n",
            "2010-12-31 00:00:00-05:00      0.079037\n",
            "2011-12-31 00:00:00-05:00     -0.044102\n",
            "2012-12-31 00:00:00-05:00      0.164369\n",
            "2013-12-31 00:00:00-05:00      0.259990\n",
            "2014-12-31 00:00:00-05:00      0.118761\n",
            "2015-12-31 00:00:00-05:00     -0.037057\n",
            "2016-12-31 00:00:00-05:00      0.233812\n",
            "2017-12-31 00:00:00-05:00      0.125416\n",
            "2018-12-31 00:00:00-05:00     -0.097634\n",
            "2019-12-31 00:00:00-05:00      0.206600\n",
            "2020-12-31 00:00:00-05:00      0.009885\n",
            "2021-12-31 00:00:00-05:00      0.355708\n",
            "2022-12-31 00:00:00-05:00     -0.099170\n",
            "2023-12-31 00:00:00-05:00      0.100366\n",
            "Trailing Returns as : 2022-12-31\n",
            "1-Year -9.92%\n",
            "2-Year 10.51%\n",
            "3-Year 7.24%\n",
            "5-Year 6.07%\n",
            "10-Year 9.73%\n",
            "15-Year 7.14%\n",
            "20-Year 9.38%\n"
          ]
        }
      ]
    },
    {
      "cell_type": "code",
      "source": [
        "# data from Ishare web site\n",
        "# xfn_yearly_total_return as input\n",
        "xfn_yearly_total_return = [\n",
        "    ['Year', 'Total Return'],\n",
        "    [2013, 26.0],\n",
        "    [2014, 11.89],\n",
        "    [2015, -3.71],\n",
        "    [2016, 23.36],\n",
        "    [2017, 12.54],\n",
        "    [2018, -9.76],\n",
        "    [2019, 20.66],\n",
        "    [2020, 0.98],\n",
        "    [2021, 35.56],\n",
        "    [2022, -9.93],\n",
        "]\n",
        "# expect output according Ishare web\n",
        "xfn_trailing_return_At_2022_END = [\n",
        "    [\"years\", \"1y\", \"3y\", \"5y\", \"10y\"],\n",
        "    [\"Total Return %\", -9.90, 7.24, 6.07, 9.73]\n",
        "]"
      ],
      "metadata": {
        "id": "TciGnb0VSSfs"
      },
      "execution_count": null,
      "outputs": []
    },
    {
      "cell_type": "markdown",
      "source": [
        "# yfinance yearly total return - dividend reinvested next day"
      ],
      "metadata": {
        "id": "a_l3mM4l3WVM"
      }
    },
    {
      "cell_type": "markdown",
      "source": [
        "# New Section"
      ],
      "metadata": {
        "id": "W7EsGldxg1i6"
      }
    },
    {
      "cell_type": "markdown",
      "source": [
        "design a  python program with yfinance  and pandas such that\n",
        "  the program uses yfinance.Ticker.history() to  the  pandas DataFrame by  yfinance.Ticker.history() containing the open, high, low, close, volume, dividends, and splits data for the specified ticker and time range.  \n",
        "The time range is 2022 to 2017.   \n",
        "Stock ticker is XFN.to\n",
        "Assume that dividends were reinvested next day of the distribution day\n",
        "The program will use “close” and “dividends” in DataFrame to  calculate the Annual Total Return (%) of each year for the given time range, and will display the result.\n"
      ],
      "metadata": {
        "id": "OfCKhZQa4bXo"
      }
    },
    {
      "cell_type": "code",
      "source": [
        "# Import yfinance and pandas\n",
        "import yfinance as yf\n",
        "import pandas as pd\n",
        "\n",
        "# Define the ticker symbol\n",
        "ticker = \"XFN.TO\"\n",
        "\n",
        "# Get the ticker object\n",
        "ticker_obj = yf.Ticker(ticker)\n",
        "\n",
        "# Get the historical market data for the specified time range\n",
        "hist_data = ticker_obj.history(start=\"2001-01-01\", end=\"2022-12-31\")\n",
        "\n",
        "# Calculate the adjusted close price by adding the dividends to the close price\n",
        "hist_data[\"Adj Close\"] = hist_data[\"Close\"] + hist_data[\"Dividends\"]\n",
        "\n",
        "# Shift the adjusted close price by one day to simulate dividend reinvestment\n",
        "hist_data[\"Adj Close\"] = hist_data[\"Adj Close\"].shift(1)\n",
        "\n",
        "# Fill the missing values with the original close price\n",
        "hist_data[\"Adj Close\"] = hist_data[\"Adj Close\"].fillna(hist_data[\"Close\"])\n",
        "\n",
        "# Calculate the annual total return for each year\n",
        "# Formula: (adj close / adj close.shift(252)) - 1\n",
        "# 252 is the number of trading days in a year\n",
        "annual_return = (hist_data[\"Adj Close\"] / hist_data[\"Adj Close\"].shift(252)) - 1\n",
        "\n",
        "# Group the annual return by year and get the last value of each group\n",
        "annual_return = annual_return.groupby(annual_return.index.year).last()\n",
        "\n",
        "# Convert the annual return to percentage format\n",
        "annual_return = annual_return.apply(lambda x: f\"{x*100:.2f}%\")\n",
        "\n",
        "# Print the annual return\n",
        "print(annual_return)\n"
      ],
      "metadata": {
        "colab": {
          "base_uri": "https://localhost:8080/"
        },
        "id": "qhQw4dro3XH5",
        "outputId": "658b2b10-2589-407b-851e-0d44f30a9f8c"
      },
      "execution_count": null,
      "outputs": [
        {
          "output_type": "stream",
          "name": "stdout",
          "text": [
            "Date\n",
            "2001       nan%\n",
            "2002     -2.71%\n",
            "2003     25.83%\n",
            "2004     18.42%\n",
            "2005     22.65%\n",
            "2006     17.36%\n",
            "2007     -1.48%\n",
            "2008    -36.85%\n",
            "2009     50.80%\n",
            "2010      8.50%\n",
            "2011     -5.42%\n",
            "2012     18.37%\n",
            "2013     25.66%\n",
            "2014     11.98%\n",
            "2015     -3.04%\n",
            "2016     21.01%\n",
            "2017     11.65%\n",
            "2018     -9.69%\n",
            "2019     22.45%\n",
            "2020      0.84%\n",
            "2021     36.18%\n",
            "2022     -8.50%\n",
            "Name: Adj Close, dtype: object\n"
          ]
        }
      ]
    },
    {
      "cell_type": "markdown",
      "source": [
        "# yfinance the trailing total return"
      ],
      "metadata": {
        "id": "g_PK-Dt-4oQO"
      }
    },
    {
      "cell_type": "markdown",
      "source": [
        "design a  python program with yfinance  and pandas such that\n",
        "1.   the program uses yfinance.Ticker.history() to  the  pandas DataFrame by  yfinance.Ticker.history() containing the open, high, low, close, volume, dividends, and splits data for the specified ticker and time range.  \n",
        "2.  The time range is 2022 to 2001.   \n",
        "3.  Stock ticker is XFN.to\n",
        "4.  Assume that dividends were reinvested next day of the distribution day\n",
        "5.  The program will use “close” and “dividends” in DataFrame for calculation\n",
        "6.   Calculate and display 'trailing total returns'  as last trading day of year 2022 only,  backward  for various durations (1 year, 2 years, 3 years, 5 years, 10 years, 15 years, 20 years)\n"
      ],
      "metadata": {
        "id": "Dcse-qkR9Bkf"
      }
    },
    {
      "cell_type": "code",
      "source": [
        "# Import yfinance and pandas\n",
        "import yfinance as yf\n",
        "import pandas as pd\n",
        "\n",
        "# Define the ticker symbol\n",
        "ticker = \"XFN.TO\"\n",
        "\n",
        "# Get the ticker object\n",
        "ticker_obj = yf.Ticker(ticker)\n",
        "\n",
        "# Get the historical market data for the specified time range\n",
        "hist_data = ticker_obj.history(start=\"2001-01-01\", end=\"2022-12-31\")\n",
        "\n",
        "# Calculate the adjusted close price by adding the dividends to the close price\n",
        "hist_data[\"Adj Close\"] = hist_data[\"Close\"] + hist_data[\"Dividends\"]\n",
        "\n",
        "# Shift the adjusted close price by one day to simulate dividend reinvestment\n",
        "hist_data[\"Adj Close\"] = hist_data[\"Adj Close\"].shift(1)\n",
        "\n",
        "# Fill the missing values with the original close price\n",
        "hist_data[\"Adj Close\"] = hist_data[\"Adj Close\"].fillna(hist_data[\"Close\"])\n",
        "\n",
        "# Define the durations for the trailing total returns\n",
        "durations = [1, 2, 3, 5, 10, 15, 20]\n",
        "\n",
        "# Create an empty DataFrame to store the trailing total returns\n",
        "trailing_returns = pd.DataFrame()\n",
        "\n",
        "# Loop through the durations\n",
        "for duration in durations:\n",
        "    # Calculate the trailing total return for each duration\n",
        "    # Formula: (adj close / adj close.shift(duration * 252)) - 1\n",
        "    # 252 is the number of trading days in a year\n",
        "    trailing_return = (hist_data[\"Adj Close\"] / hist_data[\"Adj Close\"].shift(duration * 252)) - 1\n",
        "\n",
        "    # Get the trailing return for the year 2022 only\n",
        "    trailing_return = trailing_return.loc[\"2022\"]\n",
        "\n",
        "    # Convert the trailing return to percentage format\n",
        "    trailing_return = trailing_return.apply(lambda x: f\"{x*100:.2f}%\")\n",
        "\n",
        "    # Add the trailing return to the DataFrame with the duration as the column name\n",
        "    trailing_returns[duration] = trailing_return\n",
        "\n",
        "# Print the DataFrame\n",
        "trailing_returns.index = trailing_returns.index.date\n",
        "print(trailing_returns.tail(1))\n"
      ],
      "metadata": {
        "colab": {
          "base_uri": "https://localhost:8080/"
        },
        "id": "MAqijtW881Og",
        "outputId": "18857bb2-6e08-4700-bf1c-679385e792dc"
      },
      "execution_count": 56,
      "outputs": [
        {
          "output_type": "stream",
          "name": "stdout",
          "text": [
            "                1       2       3       5        10       15       20\n",
            "2022-12-30  -8.50%  23.99%  24.20%  35.74%  161.33%  174.82%  509.98%\n"
          ]
        }
      ]
    },
    {
      "cell_type": "markdown",
      "source": [],
      "metadata": {
        "id": "cna_dSfENgZL"
      }
    },
    {
      "cell_type": "markdown",
      "source": [
        "# test section"
      ],
      "metadata": {
        "id": "P9EElpIqg6rf"
      }
    }
  ]
}